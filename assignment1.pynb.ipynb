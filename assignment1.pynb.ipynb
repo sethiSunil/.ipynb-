{
  "nbformat": 4,
  "nbformat_minor": 0,
  "metadata": {
    "colab": {
      "provenance": [],
      "toc_visible": true
    },
    "kernelspec": {
      "name": "python3",
      "display_name": "Python 3"
    },
    "language_info": {
      "name": "python"
    }
  },
  "cells": [
    {
      "cell_type": "code",
      "source": [
        "# 1. conveting an integer into a floating point number\n",
        "\n",
        "num = 5\n",
        "print(type(num))\n",
        "\n",
        "# covert\n",
        "\n",
        "num = float(num)\n",
        "print(num)\n",
        "print(type(num))"
      ],
      "metadata": {
        "colab": {
          "base_uri": "https://localhost:8080/"
        },
        "id": "NNIyWBQ_cANU",
        "outputId": "ad993c6e-72eb-4d54-d81d-abb8c0a4174d"
      },
      "execution_count": 22,
      "outputs": [
        {
          "output_type": "stream",
          "name": "stdout",
          "text": [
            "<class 'int'>\n",
            "5.0\n",
            "<class 'float'>\n"
          ]
        }
      ]
    },
    {
      "cell_type": "code",
      "source": [
        "# 2. conveting an floating into integer\n",
        "\n",
        "number = 4.99\n",
        "print(type(number))\n",
        "\n",
        "# convert\n",
        "\n",
        "number = int(number)\n",
        "print(number)\n",
        "print(type(number))"
      ],
      "metadata": {
        "colab": {
          "base_uri": "https://localhost:8080/"
        },
        "id": "I97z41t9cpMV",
        "outputId": "b6898aff-5be0-4e27-f304-87ccaa01c5d6"
      },
      "execution_count": 9,
      "outputs": [
        {
          "output_type": "stream",
          "name": "stdout",
          "text": [
            "<class 'float'>\n",
            "4\n",
            "<class 'int'>\n"
          ]
        }
      ]
    },
    {
      "cell_type": "code",
      "source": [
        "# 3. converting an int into string\n",
        "\n",
        "integer = 22\n",
        "string  = str(integer)\n",
        "print(type(string))"
      ],
      "metadata": {
        "colab": {
          "base_uri": "https://localhost:8080/"
        },
        "id": "otYAIvCTfdou",
        "outputId": "1df3b336-4524-4ddb-8124-7dbc99a9d60e"
      },
      "execution_count": 11,
      "outputs": [
        {
          "output_type": "stream",
          "name": "stdout",
          "text": [
            "<class 'str'>\n"
          ]
        }
      ]
    },
    {
      "cell_type": "code",
      "source": [
        "# 4. convert a list into a tuple\n",
        "\n",
        "mylist =[ \"sunil\" , \"itachi\" , \"virat\" , \"anushka\",[20 , 21 , 32] ]\n",
        "print(type(mylist))\n",
        "\n",
        "# convert\n",
        "\n",
        "mytuple = tuple(mylist)\n",
        "print(mylist)\n",
        "print(type(mytuple))"
      ],
      "metadata": {
        "colab": {
          "base_uri": "https://localhost:8080/"
        },
        "id": "bj1u1fsJgdfq",
        "outputId": "fa5b21e3-a781-4435-c9c0-430c943974ad"
      },
      "execution_count": 18,
      "outputs": [
        {
          "output_type": "stream",
          "name": "stdout",
          "text": [
            "<class 'list'>\n",
            "['sunil', 'itachi', 'virat', 'anushka', [20, 21, 32]]\n",
            "<class 'tuple'>\n"
          ]
        }
      ]
    },
    {
      "cell_type": "code",
      "source": [
        "# 5. coverting a tuple into a list\n",
        "\n",
        "mytuple =[ \"sunil\" , \"itachi\" , \"virat\" , \"anushka\",[20 , 21 , 32] ]\n",
        "print(type(mytuple))\n",
        "\n",
        "# convert\n",
        "\n",
        "mylist = tuple(mytuple)\n",
        "print(mytuple)\n",
        "print(type(mylist))"
      ],
      "metadata": {
        "colab": {
          "base_uri": "https://localhost:8080/"
        },
        "id": "4lz7MOptis7F",
        "outputId": "df2b3556-1be6-4ddc-f13b-f4adb25f729b"
      },
      "execution_count": 24,
      "outputs": [
        {
          "output_type": "stream",
          "name": "stdout",
          "text": [
            "<class 'list'>\n",
            "['sunil', 'itachi', 'virat', 'anushka', [20, 21, 32]]\n",
            "<class 'tuple'>\n"
          ]
        }
      ]
    },
    {
      "cell_type": "code",
      "source": [],
      "metadata": {
        "id": "P51c-tcHrAZe"
      },
      "execution_count": null,
      "outputs": []
    }
  ]
}